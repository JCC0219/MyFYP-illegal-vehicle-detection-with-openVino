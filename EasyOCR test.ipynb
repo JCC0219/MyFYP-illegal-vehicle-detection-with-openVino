{
 "cells": [
  {
   "cell_type": "code",
   "execution_count": 6,
   "id": "ef3907ed-5372-48c6-94ce-fa3c651f7a8e",
   "metadata": {},
   "outputs": [],
   "source": [
    "import easyocr\n",
    "import cv2\n",
    "from matplotlib import pyplot as plt\n",
    "import numpy as np"
   ]
  },
  {
   "cell_type": "code",
   "execution_count": 7,
   "id": "084ef0a4-b91b-4104-9e24-08d42f52b8ce",
   "metadata": {},
   "outputs": [
    {
     "name": "stderr",
     "output_type": "stream",
     "text": [
      "Using CPU. Note: This module is much faster with a GPU.\n"
     ]
    }
   ],
   "source": [
    "image_path = \"images/carplate.jpg\"\n",
    "reader = easyocr.Reader(['en'], gpu=False)\n",
    "result= reader.readtext(image_path)"
   ]
  },
  {
   "cell_type": "code",
   "execution_count": 8,
   "id": "95ec2d46-fd77-45f6-a734-8abe6339ec94",
   "metadata": {},
   "outputs": [
    {
     "data": {
      "text/plain": [
       "[([[3, 0], [121, 0], [121, 31], [3, 31]], 'VEM 9524', 0.5007114538071579)]"
      ]
     },
     "execution_count": 8,
     "metadata": {},
     "output_type": "execute_result"
    }
   ],
   "source": [
    "result"
   ]
  },
  {
   "cell_type": "code",
   "execution_count": null,
   "id": "2def8bf8-946f-44e7-9f1d-7dbc01299fa3",
   "metadata": {},
   "outputs": [],
   "source": []
  }
 ],
 "metadata": {
  "kernelspec": {
   "display_name": "Python 3",
   "language": "python",
   "name": "python3"
  },
  "language_info": {
   "codemirror_mode": {
    "name": "ipython",
    "version": 3
   },
   "file_extension": ".py",
   "mimetype": "text/x-python",
   "name": "python",
   "nbconvert_exporter": "python",
   "pygments_lexer": "ipython3",
   "version": "3.8.8"
  }
 },
 "nbformat": 4,
 "nbformat_minor": 5
}
